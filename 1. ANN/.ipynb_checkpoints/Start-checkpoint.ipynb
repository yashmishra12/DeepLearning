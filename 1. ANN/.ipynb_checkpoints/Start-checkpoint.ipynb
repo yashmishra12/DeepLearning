{
 "cells": [
  {
   "cell_type": "code",
   "execution_count": 1,
   "metadata": {},
   "outputs": [],
   "source": [
    "import numpy as np\n",
    "import pandas as pd\n",
    "import matplotlib.pyplot as plt\n",
    "import seaborn as sns\n",
    "import tensorflow as tf"
   ]
  },
  {
   "cell_type": "code",
   "execution_count": 2,
   "metadata": {},
   "outputs": [],
   "source": [
    "df = pd.read_csv(\"Churn_Modelling.csv\")"
   ]
  },
  {
   "cell_type": "code",
   "execution_count": 3,
   "metadata": {},
   "outputs": [
    {
     "data": {
      "text/html": [
       "<div>\n",
       "<style scoped>\n",
       "    .dataframe tbody tr th:only-of-type {\n",
       "        vertical-align: middle;\n",
       "    }\n",
       "\n",
       "    .dataframe tbody tr th {\n",
       "        vertical-align: top;\n",
       "    }\n",
       "\n",
       "    .dataframe thead th {\n",
       "        text-align: right;\n",
       "    }\n",
       "</style>\n",
       "<table border=\"1\" class=\"dataframe\">\n",
       "  <thead>\n",
       "    <tr style=\"text-align: right;\">\n",
       "      <th></th>\n",
       "      <th>RowNumber</th>\n",
       "      <th>CustomerId</th>\n",
       "      <th>Surname</th>\n",
       "      <th>CreditScore</th>\n",
       "      <th>Geography</th>\n",
       "      <th>Gender</th>\n",
       "      <th>Age</th>\n",
       "      <th>Tenure</th>\n",
       "      <th>Balance</th>\n",
       "      <th>NumOfProducts</th>\n",
       "      <th>HasCrCard</th>\n",
       "      <th>IsActiveMember</th>\n",
       "      <th>EstimatedSalary</th>\n",
       "      <th>Exited</th>\n",
       "    </tr>\n",
       "  </thead>\n",
       "  <tbody>\n",
       "    <tr>\n",
       "      <th>0</th>\n",
       "      <td>1</td>\n",
       "      <td>15634602</td>\n",
       "      <td>Hargrave</td>\n",
       "      <td>619</td>\n",
       "      <td>France</td>\n",
       "      <td>Female</td>\n",
       "      <td>42</td>\n",
       "      <td>2</td>\n",
       "      <td>0.00</td>\n",
       "      <td>1</td>\n",
       "      <td>1</td>\n",
       "      <td>1</td>\n",
       "      <td>101348.88</td>\n",
       "      <td>1</td>\n",
       "    </tr>\n",
       "    <tr>\n",
       "      <th>1</th>\n",
       "      <td>2</td>\n",
       "      <td>15647311</td>\n",
       "      <td>Hill</td>\n",
       "      <td>608</td>\n",
       "      <td>Spain</td>\n",
       "      <td>Female</td>\n",
       "      <td>41</td>\n",
       "      <td>1</td>\n",
       "      <td>83807.86</td>\n",
       "      <td>1</td>\n",
       "      <td>0</td>\n",
       "      <td>1</td>\n",
       "      <td>112542.58</td>\n",
       "      <td>0</td>\n",
       "    </tr>\n",
       "  </tbody>\n",
       "</table>\n",
       "</div>"
      ],
      "text/plain": [
       "   RowNumber  CustomerId   Surname  CreditScore Geography  Gender  Age  \\\n",
       "0          1    15634602  Hargrave          619    France  Female   42   \n",
       "1          2    15647311      Hill          608     Spain  Female   41   \n",
       "\n",
       "   Tenure   Balance  NumOfProducts  HasCrCard  IsActiveMember  \\\n",
       "0       2      0.00              1          1               1   \n",
       "1       1  83807.86              1          0               1   \n",
       "\n",
       "   EstimatedSalary  Exited  \n",
       "0        101348.88       1  \n",
       "1        112542.58       0  "
      ]
     },
     "execution_count": 3,
     "metadata": {},
     "output_type": "execute_result"
    }
   ],
   "source": [
    "df.head(2)"
   ]
  },
  {
   "cell_type": "code",
   "execution_count": 4,
   "metadata": {},
   "outputs": [
    {
     "data": {
      "text/plain": [
       "'2.2.0'"
      ]
     },
     "execution_count": 4,
     "metadata": {},
     "output_type": "execute_result"
    }
   ],
   "source": [
    "tf.__version__"
   ]
  },
  {
   "cell_type": "code",
   "execution_count": 5,
   "metadata": {},
   "outputs": [
    {
     "data": {
      "text/plain": [
       "140000"
      ]
     },
     "execution_count": 5,
     "metadata": {},
     "output_type": "execute_result"
    }
   ],
   "source": [
    "df.size"
   ]
  },
  {
   "cell_type": "code",
   "execution_count": 26,
   "metadata": {},
   "outputs": [],
   "source": [
    "y = df.iloc[:,-1].values"
   ]
  },
  {
   "cell_type": "code",
   "execution_count": 27,
   "metadata": {},
   "outputs": [],
   "source": [
    "x = df.iloc[:,3:-1].values"
   ]
  },
  {
   "cell_type": "code",
   "execution_count": 28,
   "metadata": {},
   "outputs": [
    {
     "name": "stdout",
     "output_type": "stream",
     "text": [
      "[[619 'France' 'Female' ... 1 1 101348.88]\n",
      " [608 'Spain' 'Female' ... 0 1 112542.58]\n",
      " [502 'France' 'Female' ... 1 0 113931.57]\n",
      " ...\n",
      " [709 'France' 'Female' ... 0 1 42085.58]\n",
      " [772 'Germany' 'Male' ... 1 0 92888.52]\n",
      " [792 'France' 'Female' ... 1 0 38190.78]]\n"
     ]
    }
   ],
   "source": [
    "print(x)"
   ]
  },
  {
   "cell_type": "code",
   "execution_count": 29,
   "metadata": {},
   "outputs": [
    {
     "name": "stdout",
     "output_type": "stream",
     "text": [
      "[1 0 1 ... 1 1 0]\n"
     ]
    }
   ],
   "source": [
    "print(y)"
   ]
  },
  {
   "cell_type": "code",
   "execution_count": 30,
   "metadata": {},
   "outputs": [
    {
     "data": {
      "text/plain": [
       "array([1, 0, 1, ..., 1, 1, 0])"
      ]
     },
     "execution_count": 30,
     "metadata": {},
     "output_type": "execute_result"
    }
   ],
   "source": [
    "y"
   ]
  },
  {
   "cell_type": "code",
   "execution_count": 32,
   "metadata": {},
   "outputs": [],
   "source": [
    "from sklearn.preprocessing import LabelEncoder\n",
    "le = LabelEncoder()"
   ]
  },
  {
   "cell_type": "code",
   "execution_count": 33,
   "metadata": {},
   "outputs": [],
   "source": [
    "x[:,2] = le.fit_transform(x[:,2])"
   ]
  },
  {
   "cell_type": "code",
   "execution_count": 34,
   "metadata": {},
   "outputs": [
    {
     "name": "stdout",
     "output_type": "stream",
     "text": [
      "[[619 'France' 0 ... 1 1 101348.88]\n",
      " [608 'Spain' 0 ... 0 1 112542.58]\n",
      " [502 'France' 0 ... 1 0 113931.57]\n",
      " ...\n",
      " [709 'France' 0 ... 0 1 42085.58]\n",
      " [772 'Germany' 1 ... 1 0 92888.52]\n",
      " [792 'France' 0 ... 1 0 38190.78]]\n"
     ]
    }
   ],
   "source": [
    "print(x)"
   ]
  },
  {
   "cell_type": "code",
   "execution_count": 35,
   "metadata": {},
   "outputs": [],
   "source": [
    "from sklearn.preprocessing import OneHotEncoder\n",
    "from sklearn.compose import ColumnTransformer"
   ]
  },
  {
   "cell_type": "code",
   "execution_count": 36,
   "metadata": {},
   "outputs": [],
   "source": [
    "ct = ColumnTransformer(transformers=[('encoder',OneHotEncoder(),[1])], remainder =\"passthrough\")\n",
    "x = np.array(ct.fit_transform(x))\n"
   ]
  },
  {
   "cell_type": "code",
   "execution_count": 37,
   "metadata": {},
   "outputs": [
    {
     "name": "stdout",
     "output_type": "stream",
     "text": [
      "[[1.0 0.0 0.0 ... 1 1 101348.88]\n",
      " [0.0 0.0 1.0 ... 0 1 112542.58]\n",
      " [1.0 0.0 0.0 ... 1 0 113931.57]\n",
      " ...\n",
      " [1.0 0.0 0.0 ... 0 1 42085.58]\n",
      " [0.0 1.0 0.0 ... 1 0 92888.52]\n",
      " [1.0 0.0 0.0 ... 1 0 38190.78]]\n"
     ]
    }
   ],
   "source": [
    "print(x)"
   ]
  },
  {
   "cell_type": "code",
   "execution_count": 38,
   "metadata": {},
   "outputs": [],
   "source": [
    "from sklearn.model_selection import train_test_split\n",
    "x_train, x_test, y_train, y_test = train_test_split(x,y,test_size=0.33, random_state=101)"
   ]
  },
  {
   "cell_type": "code",
   "execution_count": 39,
   "metadata": {},
   "outputs": [
    {
     "data": {
      "text/plain": [
       "(10000, 12)"
      ]
     },
     "execution_count": 39,
     "metadata": {},
     "output_type": "execute_result"
    }
   ],
   "source": [
    "x.shape"
   ]
  },
  {
   "cell_type": "code",
   "execution_count": 40,
   "metadata": {},
   "outputs": [
    {
     "data": {
      "text/plain": [
       "(10000,)"
      ]
     },
     "execution_count": 40,
     "metadata": {},
     "output_type": "execute_result"
    }
   ],
   "source": [
    "y.shape"
   ]
  },
  {
   "cell_type": "code",
   "execution_count": 42,
   "metadata": {},
   "outputs": [],
   "source": [
    "from sklearn.preprocessing import StandardScaler\n",
    "sc = StandardScaler()"
   ]
  },
  {
   "cell_type": "code",
   "execution_count": 43,
   "metadata": {},
   "outputs": [],
   "source": [
    "x_train = sc.fit_transform(x_train)\n",
    "x_test = sc.fit_transform(x_test)"
   ]
  },
  {
   "cell_type": "code",
   "execution_count": 44,
   "metadata": {},
   "outputs": [],
   "source": [
    "ann = tf.keras.models.Sequential()\n",
    "ann.add(tf.keras.layers.Dense(units=8,activation='relu'))"
   ]
  },
  {
   "cell_type": "code",
   "execution_count": 45,
   "metadata": {},
   "outputs": [],
   "source": [
    "ann.add(tf.keras.layers.Dense(units=8, activation=\"relu\"))"
   ]
  },
  {
   "cell_type": "code",
   "execution_count": 46,
   "metadata": {},
   "outputs": [],
   "source": [
    "ann.add(tf.keras.layers.Dense(units=1, activation='sigmoid'))"
   ]
  },
  {
   "cell_type": "code",
   "execution_count": 47,
   "metadata": {},
   "outputs": [],
   "source": [
    "ann.compile(optimizer='adam',loss = 'binary_crossentropy',metrics=['accuracy'])"
   ]
  },
  {
   "cell_type": "code",
   "execution_count": 48,
   "metadata": {},
   "outputs": [],
   "source": [
    "# For categorical output layer, activation: softmax\n",
    "# For categorical outputs, loss function ---> categorical_crossentropy\n"
   ]
  },
  {
   "cell_type": "code",
   "execution_count": 49,
   "metadata": {},
   "outputs": [
    {
     "name": "stdout",
     "output_type": "stream",
     "text": [
      "Epoch 1/250\n",
      "210/210 [==============================] - 0s 2ms/step - loss: 0.5302 - accuracy: 0.7548\n",
      "Epoch 2/250\n",
      "210/210 [==============================] - 1s 3ms/step - loss: 0.4603 - accuracy: 0.8004\n",
      "Epoch 3/250\n",
      "210/210 [==============================] - 1s 2ms/step - loss: 0.4453 - accuracy: 0.8043\n",
      "Epoch 4/250\n",
      "210/210 [==============================] - 0s 2ms/step - loss: 0.4368 - accuracy: 0.8081\n",
      "Epoch 5/250\n",
      "210/210 [==============================] - 0s 2ms/step - loss: 0.4310 - accuracy: 0.8110\n",
      "Epoch 6/250\n",
      "210/210 [==============================] - 1s 3ms/step - loss: 0.4262 - accuracy: 0.8158\n",
      "Epoch 7/250\n",
      "210/210 [==============================] - 1s 3ms/step - loss: 0.4209 - accuracy: 0.8194\n",
      "Epoch 8/250\n",
      "210/210 [==============================] - 1s 4ms/step - loss: 0.4137 - accuracy: 0.8236\n",
      "Epoch 9/250\n",
      "210/210 [==============================] - 1s 4ms/step - loss: 0.4014 - accuracy: 0.8301\n",
      "Epoch 10/250\n",
      "210/210 [==============================] - 1s 3ms/step - loss: 0.3891 - accuracy: 0.8388\n",
      "Epoch 11/250\n",
      "210/210 [==============================] - 1s 3ms/step - loss: 0.3775 - accuracy: 0.8470\n",
      "Epoch 12/250\n",
      "210/210 [==============================] - 1s 2ms/step - loss: 0.3690 - accuracy: 0.8507\n",
      "Epoch 13/250\n",
      "210/210 [==============================] - 0s 2ms/step - loss: 0.3635 - accuracy: 0.8522: 0s - loss: 0.3644 - accuracy: 0.85\n",
      "Epoch 14/250\n",
      "210/210 [==============================] - 1s 5ms/step - loss: 0.3607 - accuracy: 0.8524\n",
      "Epoch 15/250\n",
      "210/210 [==============================] - 1s 3ms/step - loss: 0.3580 - accuracy: 0.8537\n",
      "Epoch 16/250\n",
      "210/210 [==============================] - 1s 2ms/step - loss: 0.3563 - accuracy: 0.8545\n",
      "Epoch 17/250\n",
      "210/210 [==============================] - 0s 2ms/step - loss: 0.3555 - accuracy: 0.8560\n",
      "Epoch 18/250\n",
      "210/210 [==============================] - 0s 2ms/step - loss: 0.3539 - accuracy: 0.8540\n",
      "Epoch 19/250\n",
      "210/210 [==============================] - 1s 3ms/step - loss: 0.3531 - accuracy: 0.8564\n",
      "Epoch 20/250\n",
      "210/210 [==============================] - 1s 3ms/step - loss: 0.3520 - accuracy: 0.8537\n",
      "Epoch 21/250\n",
      "210/210 [==============================] - 1s 3ms/step - loss: 0.3509 - accuracy: 0.8540\n",
      "Epoch 22/250\n",
      "210/210 [==============================] - 0s 2ms/step - loss: 0.3498 - accuracy: 0.8557\n",
      "Epoch 23/250\n",
      "210/210 [==============================] - 1s 3ms/step - loss: 0.3498 - accuracy: 0.8543\n",
      "Epoch 24/250\n",
      "210/210 [==============================] - 0s 2ms/step - loss: 0.3486 - accuracy: 0.8561\n",
      "Epoch 25/250\n",
      "210/210 [==============================] - 1s 2ms/step - loss: 0.3479 - accuracy: 0.8566\n",
      "Epoch 26/250\n",
      "210/210 [==============================] - 0s 2ms/step - loss: 0.3476 - accuracy: 0.8584\n",
      "Epoch 27/250\n",
      "210/210 [==============================] - 1s 2ms/step - loss: 0.3470 - accuracy: 0.8560\n",
      "Epoch 28/250\n",
      "210/210 [==============================] - 1s 3ms/step - loss: 0.3465 - accuracy: 0.8581\n",
      "Epoch 29/250\n",
      "210/210 [==============================] - 1s 3ms/step - loss: 0.3461 - accuracy: 0.8578\n",
      "Epoch 30/250\n",
      "210/210 [==============================] - 1s 3ms/step - loss: 0.3454 - accuracy: 0.8579\n",
      "Epoch 31/250\n",
      "210/210 [==============================] - 1s 3ms/step - loss: 0.3446 - accuracy: 0.8582\n",
      "Epoch 32/250\n",
      "210/210 [==============================] - 0s 2ms/step - loss: 0.3446 - accuracy: 0.8585\n",
      "Epoch 33/250\n",
      "210/210 [==============================] - 1s 2ms/step - loss: 0.3436 - accuracy: 0.8563\n",
      "Epoch 34/250\n",
      "210/210 [==============================] - 0s 2ms/step - loss: 0.3436 - accuracy: 0.8594\n",
      "Epoch 35/250\n",
      "210/210 [==============================] - 1s 3ms/step - loss: 0.3429 - accuracy: 0.8596\n",
      "Epoch 36/250\n",
      "210/210 [==============================] - 0s 2ms/step - loss: 0.3427 - accuracy: 0.8573\n",
      "Epoch 37/250\n",
      "210/210 [==============================] - 0s 2ms/step - loss: 0.3424 - accuracy: 0.8590\n",
      "Epoch 38/250\n",
      "210/210 [==============================] - 0s 2ms/step - loss: 0.3419 - accuracy: 0.8590\n",
      "Epoch 39/250\n",
      "210/210 [==============================] - 0s 2ms/step - loss: 0.3413 - accuracy: 0.8596\n",
      "Epoch 40/250\n",
      "210/210 [==============================] - 1s 2ms/step - loss: 0.3407 - accuracy: 0.8604\n",
      "Epoch 41/250\n",
      "210/210 [==============================] - 1s 3ms/step - loss: 0.3406 - accuracy: 0.8599\n",
      "Epoch 42/250\n",
      "210/210 [==============================] - 1s 4ms/step - loss: 0.3402 - accuracy: 0.8606\n",
      "Epoch 43/250\n",
      "210/210 [==============================] - 1s 4ms/step - loss: 0.3399 - accuracy: 0.8599\n",
      "Epoch 44/250\n",
      "210/210 [==============================] - 1s 4ms/step - loss: 0.3394 - accuracy: 0.8603\n",
      "Epoch 45/250\n",
      "210/210 [==============================] - 1s 3ms/step - loss: 0.3391 - accuracy: 0.8599\n",
      "Epoch 46/250\n",
      "210/210 [==============================] - 1s 3ms/step - loss: 0.3390 - accuracy: 0.8630\n",
      "Epoch 47/250\n",
      "210/210 [==============================] - 1s 3ms/step - loss: 0.3382 - accuracy: 0.8603\n",
      "Epoch 48/250\n",
      "210/210 [==============================] - 1s 5ms/step - loss: 0.3379 - accuracy: 0.8622\n",
      "Epoch 49/250\n",
      "210/210 [==============================] - 1s 4ms/step - loss: 0.3382 - accuracy: 0.8616\n",
      "Epoch 50/250\n",
      "210/210 [==============================] - 1s 2ms/step - loss: 0.3378 - accuracy: 0.8615\n",
      "Epoch 51/250\n",
      "210/210 [==============================] - 1s 3ms/step - loss: 0.3373 - accuracy: 0.8609\n",
      "Epoch 52/250\n",
      "210/210 [==============================] - 0s 2ms/step - loss: 0.3370 - accuracy: 0.8599\n",
      "Epoch 53/250\n",
      "210/210 [==============================] - 0s 2ms/step - loss: 0.3367 - accuracy: 0.8596\n",
      "Epoch 54/250\n",
      "210/210 [==============================] - 1s 3ms/step - loss: 0.3367 - accuracy: 0.8600\n",
      "Epoch 55/250\n",
      "210/210 [==============================] - 1s 3ms/step - loss: 0.3360 - accuracy: 0.8615\n",
      "Epoch 56/250\n",
      "210/210 [==============================] - 0s 2ms/step - loss: 0.3366 - accuracy: 0.8613\n",
      "Epoch 57/250\n",
      "210/210 [==============================] - 0s 2ms/step - loss: 0.3361 - accuracy: 0.8622\n",
      "Epoch 58/250\n",
      "210/210 [==============================] - 0s 2ms/step - loss: 0.3361 - accuracy: 0.8616\n",
      "Epoch 59/250\n",
      "210/210 [==============================] - 1s 2ms/step - loss: 0.3356 - accuracy: 0.8616\n",
      "Epoch 60/250\n",
      "210/210 [==============================] - 1s 3ms/step - loss: 0.3354 - accuracy: 0.8618\n",
      "Epoch 61/250\n",
      "210/210 [==============================] - 0s 2ms/step - loss: 0.3351 - accuracy: 0.8616\n",
      "Epoch 62/250\n",
      "210/210 [==============================] - 0s 2ms/step - loss: 0.3349 - accuracy: 0.8613\n",
      "Epoch 63/250\n",
      "210/210 [==============================] - 0s 2ms/step - loss: 0.3348 - accuracy: 0.8634\n",
      "Epoch 64/250\n",
      "210/210 [==============================] - 0s 2ms/step - loss: 0.3345 - accuracy: 0.8625\n",
      "Epoch 65/250\n",
      "210/210 [==============================] - 0s 2ms/step - loss: 0.3347 - accuracy: 0.8622\n",
      "Epoch 66/250\n",
      "210/210 [==============================] - 0s 2ms/step - loss: 0.3346 - accuracy: 0.8627\n",
      "Epoch 67/250\n",
      "210/210 [==============================] - 0s 2ms/step - loss: 0.3346 - accuracy: 0.8628\n",
      "Epoch 68/250\n",
      "210/210 [==============================] - 0s 2ms/step - loss: 0.3338 - accuracy: 0.8636: 0s - loss: 0.3333 - accuracy: 0.\n",
      "Epoch 69/250\n",
      "210/210 [==============================] - 0s 2ms/step - loss: 0.3342 - accuracy: 0.8636\n",
      "Epoch 70/250\n",
      "210/210 [==============================] - 0s 2ms/step - loss: 0.3338 - accuracy: 0.8625\n",
      "Epoch 71/250\n",
      "210/210 [==============================] - 1s 3ms/step - loss: 0.3336 - accuracy: 0.8618\n",
      "Epoch 72/250\n",
      "210/210 [==============================] - 0s 2ms/step - loss: 0.3337 - accuracy: 0.8637\n",
      "Epoch 73/250\n",
      "210/210 [==============================] - 0s 2ms/step - loss: 0.3333 - accuracy: 0.8625\n",
      "Epoch 74/250\n",
      "210/210 [==============================] - 0s 2ms/step - loss: 0.3336 - accuracy: 0.8634\n",
      "Epoch 75/250\n",
      "210/210 [==============================] - 0s 2ms/step - loss: 0.3331 - accuracy: 0.8612\n",
      "Epoch 76/250\n",
      "210/210 [==============================] - 0s 2ms/step - loss: 0.3332 - accuracy: 0.8619\n",
      "Epoch 77/250\n",
      "210/210 [==============================] - 0s 2ms/step - loss: 0.3326 - accuracy: 0.8633\n",
      "Epoch 78/250\n",
      "210/210 [==============================] - 0s 2ms/step - loss: 0.3324 - accuracy: 0.8634\n",
      "Epoch 79/250\n",
      "210/210 [==============================] - 0s 2ms/step - loss: 0.3326 - accuracy: 0.8616\n",
      "Epoch 80/250\n"
     ]
    },
    {
     "name": "stdout",
     "output_type": "stream",
     "text": [
      "210/210 [==============================] - 0s 2ms/step - loss: 0.3325 - accuracy: 0.8627\n",
      "Epoch 81/250\n",
      "210/210 [==============================] - 1s 3ms/step - loss: 0.3322 - accuracy: 0.8634\n",
      "Epoch 82/250\n",
      "210/210 [==============================] - 0s 2ms/step - loss: 0.3321 - accuracy: 0.8636\n",
      "Epoch 83/250\n",
      "210/210 [==============================] - 1s 2ms/step - loss: 0.3326 - accuracy: 0.8627\n",
      "Epoch 84/250\n",
      "210/210 [==============================] - 1s 3ms/step - loss: 0.3319 - accuracy: 0.8634\n",
      "Epoch 85/250\n",
      "210/210 [==============================] - 1s 3ms/step - loss: 0.3318 - accuracy: 0.8628\n",
      "Epoch 86/250\n",
      "210/210 [==============================] - 0s 2ms/step - loss: 0.3318 - accuracy: 0.8634\n",
      "Epoch 87/250\n",
      "210/210 [==============================] - 0s 2ms/step - loss: 0.3317 - accuracy: 0.8618\n",
      "Epoch 88/250\n",
      "210/210 [==============================] - 0s 2ms/step - loss: 0.3317 - accuracy: 0.8634\n",
      "Epoch 89/250\n",
      "210/210 [==============================] - 1s 4ms/step - loss: 0.3315 - accuracy: 0.8624\n",
      "Epoch 90/250\n",
      "210/210 [==============================] - 1s 3ms/step - loss: 0.3319 - accuracy: 0.8646: 0s - loss: 0.3307 - \n",
      "Epoch 91/250\n",
      "210/210 [==============================] - 1s 3ms/step - loss: 0.3318 - accuracy: 0.8630\n",
      "Epoch 92/250\n",
      "210/210 [==============================] - 1s 2ms/step - loss: 0.3315 - accuracy: 0.8622\n",
      "Epoch 93/250\n",
      "210/210 [==============================] - 1s 3ms/step - loss: 0.3311 - accuracy: 0.8646\n",
      "Epoch 94/250\n",
      "210/210 [==============================] - 1s 4ms/step - loss: 0.3313 - accuracy: 0.8642\n",
      "Epoch 95/250\n",
      "210/210 [==============================] - 1s 3ms/step - loss: 0.3310 - accuracy: 0.8631: 0s - loss: 0.330\n",
      "Epoch 96/250\n",
      "210/210 [==============================] - 1s 4ms/step - loss: 0.3310 - accuracy: 0.8643\n",
      "Epoch 97/250\n",
      "210/210 [==============================] - 0s 2ms/step - loss: 0.3310 - accuracy: 0.8634\n",
      "Epoch 98/250\n",
      "210/210 [==============================] - 0s 2ms/step - loss: 0.3308 - accuracy: 0.8619\n",
      "Epoch 99/250\n",
      "210/210 [==============================] - 1s 2ms/step - loss: 0.3306 - accuracy: 0.8627\n",
      "Epoch 100/250\n",
      "210/210 [==============================] - 1s 3ms/step - loss: 0.3309 - accuracy: 0.8634\n",
      "Epoch 101/250\n",
      "210/210 [==============================] - 1s 3ms/step - loss: 0.3311 - accuracy: 0.8619\n",
      "Epoch 102/250\n",
      "210/210 [==============================] - 1s 3ms/step - loss: 0.3309 - accuracy: 0.8619\n",
      "Epoch 103/250\n",
      "210/210 [==============================] - 1s 3ms/step - loss: 0.3313 - accuracy: 0.8625\n",
      "Epoch 104/250\n",
      "210/210 [==============================] - ETA: 0s - loss: 0.3305 - accuracy: 0.86 - 1s 4ms/step - loss: 0.3310 - accuracy: 0.8624\n",
      "Epoch 105/250\n",
      "210/210 [==============================] - 1s 3ms/step - loss: 0.3303 - accuracy: 0.8640\n",
      "Epoch 106/250\n",
      "210/210 [==============================] - 1s 3ms/step - loss: 0.3306 - accuracy: 0.8630\n",
      "Epoch 107/250\n",
      "210/210 [==============================] - 1s 4ms/step - loss: 0.3307 - accuracy: 0.8636\n",
      "Epoch 108/250\n",
      "210/210 [==============================] - 1s 3ms/step - loss: 0.3304 - accuracy: 0.8625\n",
      "Epoch 109/250\n",
      "210/210 [==============================] - 0s 2ms/step - loss: 0.3304 - accuracy: 0.8631\n",
      "Epoch 110/250\n",
      "210/210 [==============================] - 0s 2ms/step - loss: 0.3309 - accuracy: 0.8630\n",
      "Epoch 111/250\n",
      "210/210 [==============================] - 0s 2ms/step - loss: 0.3304 - accuracy: 0.8625\n",
      "Epoch 112/250\n",
      "210/210 [==============================] - 0s 2ms/step - loss: 0.3306 - accuracy: 0.8631\n",
      "Epoch 113/250\n",
      "210/210 [==============================] - 0s 2ms/step - loss: 0.3303 - accuracy: 0.8639\n",
      "Epoch 114/250\n",
      "210/210 [==============================] - 0s 2ms/step - loss: 0.3304 - accuracy: 0.8642\n",
      "Epoch 115/250\n",
      "210/210 [==============================] - 0s 2ms/step - loss: 0.3300 - accuracy: 0.8622\n",
      "Epoch 116/250\n",
      "210/210 [==============================] - 1s 3ms/step - loss: 0.3300 - accuracy: 0.8631\n",
      "Epoch 117/250\n",
      "210/210 [==============================] - 0s 2ms/step - loss: 0.3306 - accuracy: 0.8628\n",
      "Epoch 118/250\n",
      "210/210 [==============================] - 0s 2ms/step - loss: 0.3301 - accuracy: 0.8640\n",
      "Epoch 119/250\n",
      "210/210 [==============================] - 0s 2ms/step - loss: 0.3302 - accuracy: 0.8627\n",
      "Epoch 120/250\n",
      "210/210 [==============================] - 0s 2ms/step - loss: 0.3303 - accuracy: 0.8627\n",
      "Epoch 121/250\n",
      "210/210 [==============================] - 1s 2ms/step - loss: 0.3303 - accuracy: 0.8637: 0s - loss: 0.3364 - accuracy: \n",
      "Epoch 122/250\n",
      "210/210 [==============================] - 0s 2ms/step - loss: 0.3305 - accuracy: 0.8642\n",
      "Epoch 123/250\n",
      "210/210 [==============================] - 0s 1ms/step - loss: 0.3304 - accuracy: 0.8637\n",
      "Epoch 124/250\n",
      "210/210 [==============================] - 0s 2ms/step - loss: 0.3301 - accuracy: 0.8642\n",
      "Epoch 125/250\n",
      "210/210 [==============================] - 0s 2ms/step - loss: 0.3301 - accuracy: 0.8643\n",
      "Epoch 126/250\n",
      "210/210 [==============================] - 0s 2ms/step - loss: 0.3301 - accuracy: 0.8634\n",
      "Epoch 127/250\n",
      "210/210 [==============================] - 0s 2ms/step - loss: 0.3304 - accuracy: 0.8624\n",
      "Epoch 128/250\n",
      "210/210 [==============================] - 0s 2ms/step - loss: 0.3298 - accuracy: 0.8636\n",
      "Epoch 129/250\n",
      "210/210 [==============================] - 0s 2ms/step - loss: 0.3300 - accuracy: 0.8625\n",
      "Epoch 130/250\n",
      "210/210 [==============================] - 0s 2ms/step - loss: 0.3294 - accuracy: 0.8631\n",
      "Epoch 131/250\n",
      "210/210 [==============================] - 0s 2ms/step - loss: 0.3301 - accuracy: 0.8624\n",
      "Epoch 132/250\n",
      "210/210 [==============================] - 0s 2ms/step - loss: 0.3304 - accuracy: 0.8643\n",
      "Epoch 133/250\n",
      "210/210 [==============================] - 0s 2ms/step - loss: 0.3296 - accuracy: 0.8631: 0s - loss: 0.2971 - \n",
      "Epoch 134/250\n",
      "210/210 [==============================] - 0s 2ms/step - loss: 0.3305 - accuracy: 0.8628\n",
      "Epoch 135/250\n",
      "210/210 [==============================] - 0s 2ms/step - loss: 0.3297 - accuracy: 0.8640\n",
      "Epoch 136/250\n",
      "210/210 [==============================] - 0s 2ms/step - loss: 0.3297 - accuracy: 0.8631\n",
      "Epoch 137/250\n",
      "210/210 [==============================] - 0s 1ms/step - loss: 0.3295 - accuracy: 0.8643\n",
      "Epoch 138/250\n",
      "210/210 [==============================] - 1s 3ms/step - loss: 0.3301 - accuracy: 0.8631\n",
      "Epoch 139/250\n",
      "210/210 [==============================] - 0s 2ms/step - loss: 0.3296 - accuracy: 0.8633\n",
      "Epoch 140/250\n",
      "210/210 [==============================] - 0s 2ms/step - loss: 0.3296 - accuracy: 0.8639\n",
      "Epoch 141/250\n",
      "210/210 [==============================] - 0s 2ms/step - loss: 0.3300 - accuracy: 0.8642\n",
      "Epoch 142/250\n",
      "210/210 [==============================] - 0s 2ms/step - loss: 0.3298 - accuracy: 0.8639\n",
      "Epoch 143/250\n",
      "210/210 [==============================] - 1s 3ms/step - loss: 0.3296 - accuracy: 0.8628\n",
      "Epoch 144/250\n",
      "210/210 [==============================] - 1s 3ms/step - loss: 0.3294 - accuracy: 0.8646\n",
      "Epoch 145/250\n",
      "210/210 [==============================] - 0s 2ms/step - loss: 0.3290 - accuracy: 0.8645\n",
      "Epoch 146/250\n",
      "210/210 [==============================] - 0s 2ms/step - loss: 0.3296 - accuracy: 0.8646\n",
      "Epoch 147/250\n",
      "210/210 [==============================] - 0s 2ms/step - loss: 0.3301 - accuracy: 0.8636\n",
      "Epoch 148/250\n",
      "210/210 [==============================] - 0s 2ms/step - loss: 0.3294 - accuracy: 0.8646: 0s - loss: 0.3371 - accu\n",
      "Epoch 149/250\n",
      "210/210 [==============================] - 0s 2ms/step - loss: 0.3295 - accuracy: 0.8639\n",
      "Epoch 150/250\n",
      "210/210 [==============================] - 0s 2ms/step - loss: 0.3293 - accuracy: 0.8634\n",
      "Epoch 151/250\n",
      "210/210 [==============================] - 0s 2ms/step - loss: 0.3294 - accuracy: 0.8652\n",
      "Epoch 152/250\n",
      "210/210 [==============================] - 0s 2ms/step - loss: 0.3298 - accuracy: 0.8630\n",
      "Epoch 153/250\n",
      "210/210 [==============================] - 0s 2ms/step - loss: 0.3293 - accuracy: 0.8658\n",
      "Epoch 154/250\n",
      "210/210 [==============================] - 1s 2ms/step - loss: 0.3293 - accuracy: 0.8643\n",
      "Epoch 155/250\n",
      "210/210 [==============================] - 0s 2ms/step - loss: 0.3290 - accuracy: 0.8640\n",
      "Epoch 156/250\n",
      "210/210 [==============================] - 1s 5ms/step - loss: 0.3291 - accuracy: 0.8645\n",
      "Epoch 157/250\n",
      "210/210 [==============================] - 0s 2ms/step - loss: 0.3293 - accuracy: 0.8646\n",
      "Epoch 158/250\n"
     ]
    },
    {
     "name": "stdout",
     "output_type": "stream",
     "text": [
      "210/210 [==============================] - 0s 2ms/step - loss: 0.3287 - accuracy: 0.8651\n",
      "Epoch 159/250\n",
      "210/210 [==============================] - 0s 1ms/step - loss: 0.3293 - accuracy: 0.8634\n",
      "Epoch 160/250\n",
      "210/210 [==============================] - 0s 1ms/step - loss: 0.3297 - accuracy: 0.8643\n",
      "Epoch 161/250\n",
      "210/210 [==============================] - 0s 1ms/step - loss: 0.3294 - accuracy: 0.8642\n",
      "Epoch 162/250\n",
      "210/210 [==============================] - 0s 2ms/step - loss: 0.3292 - accuracy: 0.8646\n",
      "Epoch 163/250\n",
      "210/210 [==============================] - 0s 2ms/step - loss: 0.3291 - accuracy: 0.8649\n",
      "Epoch 164/250\n",
      "210/210 [==============================] - 0s 1ms/step - loss: 0.3294 - accuracy: 0.8648\n",
      "Epoch 165/250\n",
      "210/210 [==============================] - 0s 1ms/step - loss: 0.3292 - accuracy: 0.8640\n",
      "Epoch 166/250\n",
      "210/210 [==============================] - 0s 1ms/step - loss: 0.3291 - accuracy: 0.8654: 0s - loss: 0.3296 - accuracy: 0.86\n",
      "Epoch 167/250\n",
      "210/210 [==============================] - 0s 1ms/step - loss: 0.3289 - accuracy: 0.8643\n",
      "Epoch 168/250\n",
      "210/210 [==============================] - 0s 1ms/step - loss: 0.3289 - accuracy: 0.8652\n",
      "Epoch 169/250\n",
      "210/210 [==============================] - 0s 2ms/step - loss: 0.3293 - accuracy: 0.8654\n",
      "Epoch 170/250\n",
      "210/210 [==============================] - 1s 5ms/step - loss: 0.3290 - accuracy: 0.8655\n",
      "Epoch 171/250\n",
      "210/210 [==============================] - 0s 2ms/step - loss: 0.3288 - accuracy: 0.8646\n",
      "Epoch 172/250\n",
      "210/210 [==============================] - 1s 3ms/step - loss: 0.3284 - accuracy: 0.8637\n",
      "Epoch 173/250\n",
      "210/210 [==============================] - 0s 2ms/step - loss: 0.3292 - accuracy: 0.8652\n",
      "Epoch 174/250\n",
      "210/210 [==============================] - 0s 2ms/step - loss: 0.3288 - accuracy: 0.8657\n",
      "Epoch 175/250\n",
      "210/210 [==============================] - 0s 1ms/step - loss: 0.3289 - accuracy: 0.8645\n",
      "Epoch 176/250\n",
      "210/210 [==============================] - 0s 1ms/step - loss: 0.3287 - accuracy: 0.8649\n",
      "Epoch 177/250\n",
      "210/210 [==============================] - 0s 2ms/step - loss: 0.3285 - accuracy: 0.8652\n",
      "Epoch 178/250\n",
      "210/210 [==============================] - 0s 2ms/step - loss: 0.3287 - accuracy: 0.8648\n",
      "Epoch 179/250\n",
      "210/210 [==============================] - 0s 1ms/step - loss: 0.3284 - accuracy: 0.8660\n",
      "Epoch 180/250\n",
      "210/210 [==============================] - 1s 2ms/step - loss: 0.3290 - accuracy: 0.8658\n",
      "Epoch 181/250\n",
      "210/210 [==============================] - 1s 3ms/step - loss: 0.3290 - accuracy: 0.8657\n",
      "Epoch 182/250\n",
      "210/210 [==============================] - 0s 1ms/step - loss: 0.3283 - accuracy: 0.8651\n",
      "Epoch 183/250\n",
      "210/210 [==============================] - 0s 2ms/step - loss: 0.3278 - accuracy: 0.8658\n",
      "Epoch 184/250\n",
      "210/210 [==============================] - 0s 2ms/step - loss: 0.3287 - accuracy: 0.8666\n",
      "Epoch 185/250\n",
      "210/210 [==============================] - 0s 2ms/step - loss: 0.3286 - accuracy: 0.8657\n",
      "Epoch 186/250\n",
      "210/210 [==============================] - 0s 2ms/step - loss: 0.3285 - accuracy: 0.8654\n",
      "Epoch 187/250\n",
      "210/210 [==============================] - 0s 1ms/step - loss: 0.3283 - accuracy: 0.8669\n",
      "Epoch 188/250\n",
      "210/210 [==============================] - 0s 2ms/step - loss: 0.3283 - accuracy: 0.8667\n",
      "Epoch 189/250\n",
      "210/210 [==============================] - 0s 2ms/step - loss: 0.3288 - accuracy: 0.8655\n",
      "Epoch 190/250\n",
      "210/210 [==============================] - 0s 1ms/step - loss: 0.3280 - accuracy: 0.8651\n",
      "Epoch 191/250\n",
      "210/210 [==============================] - 0s 2ms/step - loss: 0.3282 - accuracy: 0.8673\n",
      "Epoch 192/250\n",
      "210/210 [==============================] - 0s 2ms/step - loss: 0.3285 - accuracy: 0.8643\n",
      "Epoch 193/250\n",
      "210/210 [==============================] - 0s 1ms/step - loss: 0.3284 - accuracy: 0.8651\n",
      "Epoch 194/250\n",
      "210/210 [==============================] - 0s 1ms/step - loss: 0.3281 - accuracy: 0.8661\n",
      "Epoch 195/250\n",
      "210/210 [==============================] - 0s 1ms/step - loss: 0.3283 - accuracy: 0.8669\n",
      "Epoch 196/250\n",
      "210/210 [==============================] - 0s 1ms/step - loss: 0.3282 - accuracy: 0.8660\n",
      "Epoch 197/250\n",
      "210/210 [==============================] - 0s 1ms/step - loss: 0.3286 - accuracy: 0.8648\n",
      "Epoch 198/250\n",
      "210/210 [==============================] - 0s 1ms/step - loss: 0.3280 - accuracy: 0.8652\n",
      "Epoch 199/250\n",
      "210/210 [==============================] - 0s 2ms/step - loss: 0.3279 - accuracy: 0.8652: 0s - loss: 0.3431 - accura\n",
      "Epoch 200/250\n",
      "210/210 [==============================] - 0s 1ms/step - loss: 0.3280 - accuracy: 0.8666\n",
      "Epoch 201/250\n",
      "210/210 [==============================] - 0s 2ms/step - loss: 0.3283 - accuracy: 0.8658\n",
      "Epoch 202/250\n",
      "210/210 [==============================] - 0s 2ms/step - loss: 0.3278 - accuracy: 0.8664\n",
      "Epoch 203/250\n",
      "210/210 [==============================] - 0s 1ms/step - loss: 0.3278 - accuracy: 0.8655\n",
      "Epoch 204/250\n",
      "210/210 [==============================] - 0s 1ms/step - loss: 0.3285 - accuracy: 0.8643\n",
      "Epoch 205/250\n",
      "210/210 [==============================] - 0s 2ms/step - loss: 0.3278 - accuracy: 0.8654\n",
      "Epoch 206/250\n",
      "210/210 [==============================] - 0s 2ms/step - loss: 0.3281 - accuracy: 0.8669\n",
      "Epoch 207/250\n",
      "210/210 [==============================] - 0s 1ms/step - loss: 0.3281 - accuracy: 0.8669\n",
      "Epoch 208/250\n",
      "210/210 [==============================] - 0s 1ms/step - loss: 0.3281 - accuracy: 0.8661\n",
      "Epoch 209/250\n",
      "210/210 [==============================] - 0s 1ms/step - loss: 0.3283 - accuracy: 0.8667\n",
      "Epoch 210/250\n",
      "210/210 [==============================] - 0s 1ms/step - loss: 0.3284 - accuracy: 0.8642\n",
      "Epoch 211/250\n",
      "210/210 [==============================] - 1s 5ms/step - loss: 0.3279 - accuracy: 0.8646\n",
      "Epoch 212/250\n",
      "210/210 [==============================] - 0s 2ms/step - loss: 0.3275 - accuracy: 0.8652\n",
      "Epoch 213/250\n",
      "210/210 [==============================] - 0s 1ms/step - loss: 0.3274 - accuracy: 0.8658\n",
      "Epoch 214/250\n",
      "210/210 [==============================] - 0s 1ms/step - loss: 0.3278 - accuracy: 0.8663\n",
      "Epoch 215/250\n",
      "210/210 [==============================] - 0s 1ms/step - loss: 0.3275 - accuracy: 0.8654\n",
      "Epoch 216/250\n",
      "210/210 [==============================] - 0s 1ms/step - loss: 0.3276 - accuracy: 0.8651\n",
      "Epoch 217/250\n",
      "210/210 [==============================] - 0s 2ms/step - loss: 0.3279 - accuracy: 0.8663\n",
      "Epoch 218/250\n",
      "210/210 [==============================] - 1s 2ms/step - loss: 0.3276 - accuracy: 0.8636\n",
      "Epoch 219/250\n",
      "210/210 [==============================] - 1s 3ms/step - loss: 0.3284 - accuracy: 0.8660\n",
      "Epoch 220/250\n",
      "210/210 [==============================] - 0s 2ms/step - loss: 0.3276 - accuracy: 0.8661\n",
      "Epoch 221/250\n",
      "210/210 [==============================] - 0s 2ms/step - loss: 0.3278 - accuracy: 0.8657\n",
      "Epoch 222/250\n",
      "210/210 [==============================] - 0s 2ms/step - loss: 0.3273 - accuracy: 0.8666\n",
      "Epoch 223/250\n",
      "210/210 [==============================] - 0s 1ms/step - loss: 0.3277 - accuracy: 0.8639\n",
      "Epoch 224/250\n",
      "210/210 [==============================] - 0s 1ms/step - loss: 0.3273 - accuracy: 0.8649\n",
      "Epoch 225/250\n",
      "210/210 [==============================] - 0s 2ms/step - loss: 0.3276 - accuracy: 0.8661\n",
      "Epoch 226/250\n",
      "210/210 [==============================] - 0s 2ms/step - loss: 0.3277 - accuracy: 0.8663\n",
      "Epoch 227/250\n",
      "210/210 [==============================] - 0s 1ms/step - loss: 0.3274 - accuracy: 0.8675\n",
      "Epoch 228/250\n",
      "210/210 [==============================] - 0s 1ms/step - loss: 0.3277 - accuracy: 0.8646\n",
      "Epoch 229/250\n",
      "210/210 [==============================] - 0s 2ms/step - loss: 0.3272 - accuracy: 0.8663\n",
      "Epoch 230/250\n",
      "210/210 [==============================] - 0s 2ms/step - loss: 0.3277 - accuracy: 0.8661\n",
      "Epoch 231/250\n",
      "210/210 [==============================] - 0s 1ms/step - loss: 0.3273 - accuracy: 0.8682\n",
      "Epoch 232/250\n",
      "210/210 [==============================] - 0s 1ms/step - loss: 0.3275 - accuracy: 0.8649\n",
      "Epoch 233/250\n",
      "210/210 [==============================] - 0s 1ms/step - loss: 0.3274 - accuracy: 0.8652\n",
      "Epoch 234/250\n",
      "210/210 [==============================] - 0s 2ms/step - loss: 0.3278 - accuracy: 0.8643\n",
      "Epoch 235/250\n",
      "210/210 [==============================] - 0s 2ms/step - loss: 0.3276 - accuracy: 0.8657\n",
      "Epoch 236/250\n",
      "210/210 [==============================] - 0s 2ms/step - loss: 0.3276 - accuracy: 0.8642\n",
      "Epoch 237/250\n"
     ]
    },
    {
     "name": "stdout",
     "output_type": "stream",
     "text": [
      "210/210 [==============================] - 0s 2ms/step - loss: 0.3272 - accuracy: 0.8649\n",
      "Epoch 238/250\n",
      "210/210 [==============================] - 0s 2ms/step - loss: 0.3277 - accuracy: 0.8648\n",
      "Epoch 239/250\n",
      "210/210 [==============================] - 0s 1ms/step - loss: 0.3273 - accuracy: 0.8652\n",
      "Epoch 240/250\n",
      "210/210 [==============================] - 0s 1ms/step - loss: 0.3276 - accuracy: 0.8649\n",
      "Epoch 241/250\n",
      "210/210 [==============================] - 0s 1ms/step - loss: 0.3276 - accuracy: 0.8663\n",
      "Epoch 242/250\n",
      "210/210 [==============================] - 0s 2ms/step - loss: 0.3273 - accuracy: 0.8664\n",
      "Epoch 243/250\n",
      "210/210 [==============================] - 0s 2ms/step - loss: 0.3273 - accuracy: 0.8654\n",
      "Epoch 244/250\n",
      "210/210 [==============================] - 0s 2ms/step - loss: 0.3273 - accuracy: 0.8649\n",
      "Epoch 245/250\n",
      "210/210 [==============================] - 0s 2ms/step - loss: 0.3272 - accuracy: 0.8667\n",
      "Epoch 246/250\n",
      "210/210 [==============================] - 0s 1ms/step - loss: 0.3271 - accuracy: 0.8639\n",
      "Epoch 247/250\n",
      "210/210 [==============================] - 0s 1ms/step - loss: 0.3272 - accuracy: 0.8645\n",
      "Epoch 248/250\n",
      "210/210 [==============================] - 0s 1ms/step - loss: 0.3269 - accuracy: 0.8664\n",
      "Epoch 249/250\n",
      "210/210 [==============================] - 0s 2ms/step - loss: 0.3274 - accuracy: 0.8642\n",
      "Epoch 250/250\n",
      "210/210 [==============================] - 0s 2ms/step - loss: 0.3269 - accuracy: 0.8655: 0s - loss: 0.3098 - accura\n"
     ]
    },
    {
     "data": {
      "text/plain": [
       "<tensorflow.python.keras.callbacks.History at 0x7fcb3beec810>"
      ]
     },
     "execution_count": 49,
     "metadata": {},
     "output_type": "execute_result"
    }
   ],
   "source": [
    "ann.fit(x_train, y_train, batch_size = 32, epochs = 250)"
   ]
  },
  {
   "cell_type": "code",
   "execution_count": 51,
   "metadata": {},
   "outputs": [
    {
     "name": "stdout",
     "output_type": "stream",
     "text": [
      "[[False]]\n"
     ]
    }
   ],
   "source": [
    "print(ann.predict(sc.transform([[1,0,0, 600, 1, 40, 3, 60000, 2, 1, 1, 50000]]))>0.5)"
   ]
  },
  {
   "cell_type": "code",
   "execution_count": 52,
   "metadata": {},
   "outputs": [],
   "source": [
    "y_pred = ann.predict(x_test)"
   ]
  },
  {
   "cell_type": "code",
   "execution_count": 53,
   "metadata": {},
   "outputs": [],
   "source": [
    "y_pred = (y_pred>0.5)"
   ]
  },
  {
   "cell_type": "code",
   "execution_count": 54,
   "metadata": {},
   "outputs": [
    {
     "name": "stdout",
     "output_type": "stream",
     "text": [
      "[[2492  128]\n",
      " [ 340  340]]\n"
     ]
    }
   ],
   "source": [
    "from sklearn.metrics import confusion_matrix, accuracy_score\n",
    "cm = confusion_matrix(y_test, y_pred)\n",
    "print(cm)"
   ]
  },
  {
   "cell_type": "code",
   "execution_count": 55,
   "metadata": {},
   "outputs": [
    {
     "data": {
      "text/plain": [
       "0.8581818181818182"
      ]
     },
     "execution_count": 55,
     "metadata": {},
     "output_type": "execute_result"
    }
   ],
   "source": [
    "accuracy_score(y_test,y_pred)"
   ]
  },
  {
   "cell_type": "code",
   "execution_count": null,
   "metadata": {},
   "outputs": [],
   "source": []
  }
 ],
 "metadata": {
  "kernelspec": {
   "display_name": "Python 3",
   "language": "python",
   "name": "python3"
  },
  "language_info": {
   "codemirror_mode": {
    "name": "ipython",
    "version": 3
   },
   "file_extension": ".py",
   "mimetype": "text/x-python",
   "name": "python",
   "nbconvert_exporter": "python",
   "pygments_lexer": "ipython3",
   "version": "3.7.6"
  }
 },
 "nbformat": 4,
 "nbformat_minor": 4
}
